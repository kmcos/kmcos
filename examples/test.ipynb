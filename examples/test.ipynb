{
 "cells": [
  {
   "cell_type": "code",
   "execution_count": 2,
   "metadata": {},
   "outputs": [
    {
     "ename": "ModuleNotFoundError",
     "evalue": "No module named 'eval'",
     "output_type": "error",
     "traceback": [
      "\u001b[0;31m---------------------------------------------------------------------------\u001b[0m",
      "\u001b[0;31mModuleNotFoundError\u001b[0m                       Traceback (most recent call last)",
      "\u001b[1;32m/home/tsuyama/kmcosInstallation/kmcos/examples/FePtBulk_local_smart/test.ipynb Cell 1\u001b[0m line \u001b[0;36m5\n\u001b[1;32m      <a href='vscode-notebook-cell://wsl%2Bubuntu-20.04/home/tsuyama/kmcosInstallation/kmcos/examples/FePtBulk_local_smart/test.ipynb#W0sdnNjb2RlLXJlbW90ZQ%3D%3D?line=2'>3</a>\u001b[0m \u001b[39mimport\u001b[39;00m \u001b[39mnumpy\u001b[39;00m \u001b[39mas\u001b[39;00m \u001b[39mnp\u001b[39;00m\n\u001b[1;32m      <a href='vscode-notebook-cell://wsl%2Bubuntu-20.04/home/tsuyama/kmcosInstallation/kmcos/examples/FePtBulk_local_smart/test.ipynb#W0sdnNjb2RlLXJlbW90ZQ%3D%3D?line=3'>4</a>\u001b[0m \u001b[39mimport\u001b[39;00m \u001b[39mpandas\u001b[39;00m \u001b[39mas\u001b[39;00m \u001b[39mpd\u001b[39;00m\n\u001b[0;32m----> <a href='vscode-notebook-cell://wsl%2Bubuntu-20.04/home/tsuyama/kmcosInstallation/kmcos/examples/FePtBulk_local_smart/test.ipynb#W0sdnNjb2RlLXJlbW90ZQ%3D%3D?line=4'>5</a>\u001b[0m \u001b[39mimport\u001b[39;00m \u001b[39meval\u001b[39;00m\n",
      "\u001b[0;31mModuleNotFoundError\u001b[0m: No module named 'eval'"
     ]
    }
   ],
   "source": [
    "import ase\n",
    "from ase.io import read, write\n",
    "import numpy as np\n",
    "import pandas as pd"
   ]
  },
  {
   "cell_type": "code",
   "execution_count": 59,
   "metadata": {},
   "outputs": [],
   "source": [
    "repeat = 20\n",
    "cell_ratio = 1/2"
   ]
  },
  {
   "cell_type": "code",
   "execution_count": 60,
   "metadata": {},
   "outputs": [
    {
     "ename": "UserWarning",
     "evalue": "n-coordinate 2 seems to fall outside lattice",
     "output_type": "error",
     "traceback": [
      "\u001b[0;31m---------------------------------------------------------------------------\u001b[0m",
      "\u001b[0;31mUserWarning\u001b[0m                               Traceback (most recent call last)",
      "\u001b[1;32m/home/tsuyama/kmcosInstallation/kmcos/examples/FePtBulk_local_smart/test.ipynb Cell 3\u001b[0m line \u001b[0;36m1\n\u001b[1;32m      <a href='vscode-notebook-cell://wsl%2Bubuntu-20.04/home/tsuyama/kmcosInstallation/kmcos/examples/FePtBulk_local_smart/test.ipynb#W2sdnNjb2RlLXJlbW90ZQ%3D%3D?line=7'>8</a>\u001b[0m converter \u001b[39m=\u001b[39m {\u001b[39m\"\u001b[39m\u001b[39mfe\u001b[39m\u001b[39m\"\u001b[39m: model\u001b[39m.\u001b[39mproclist\u001b[39m.\u001b[39mfe, \u001b[39m\"\u001b[39m\u001b[39mempty\u001b[39m\u001b[39m\"\u001b[39m: model\u001b[39m.\u001b[39mproclist\u001b[39m.\u001b[39mempty, \u001b[39m\"\u001b[39m\u001b[39mpt\u001b[39m\u001b[39m\"\u001b[39m: model\u001b[39m.\u001b[39mproclist\u001b[39m.\u001b[39mpt}\n\u001b[1;32m      <a href='vscode-notebook-cell://wsl%2Bubuntu-20.04/home/tsuyama/kmcosInstallation/kmcos/examples/FePtBulk_local_smart/test.ipynb#W2sdnNjb2RlLXJlbW90ZQ%3D%3D?line=8'>9</a>\u001b[0m \u001b[39mfor\u001b[39;00m coord, \u001b[39mtype\u001b[39m \u001b[39min\u001b[39;00m \u001b[39mzip\u001b[39m(merged[[\u001b[39m\"\u001b[39m\u001b[39mx_cell\u001b[39m\u001b[39m\"\u001b[39m, \u001b[39m\"\u001b[39m\u001b[39my_cell\u001b[39m\u001b[39m\"\u001b[39m, \u001b[39m\"\u001b[39m\u001b[39mz_cell\u001b[39m\u001b[39m\"\u001b[39m, \u001b[39m\"\u001b[39m\u001b[39minner_coord_number\u001b[39m\u001b[39m\"\u001b[39m]]\u001b[39m.\u001b[39mvalues, merged[\u001b[39m\"\u001b[39m\u001b[39mtypes_y\u001b[39m\u001b[39m\"\u001b[39m]):\n\u001b[0;32m---> <a href='vscode-notebook-cell://wsl%2Bubuntu-20.04/home/tsuyama/kmcosInstallation/kmcos/examples/FePtBulk_local_smart/test.ipynb#W2sdnNjb2RlLXJlbW90ZQ%3D%3D?line=9'>10</a>\u001b[0m     model\u001b[39m.\u001b[39;49m_put(coord\u001b[39m.\u001b[39;49mtolist(), converter[\u001b[39mtype\u001b[39;49m])\n\u001b[1;32m     <a href='vscode-notebook-cell://wsl%2Bubuntu-20.04/home/tsuyama/kmcosInstallation/kmcos/examples/FePtBulk_local_smart/test.ipynb#W2sdnNjb2RlLXJlbW90ZQ%3D%3D?line=10'>11</a>\u001b[0m model\u001b[39m.\u001b[39m_adjust_database()\n\u001b[1;32m     <a href='vscode-notebook-cell://wsl%2Bubuntu-20.04/home/tsuyama/kmcosInstallation/kmcos/examples/FePtBulk_local_smart/test.ipynb#W2sdnNjb2RlLXJlbW90ZQ%3D%3D?line=11'>12</a>\u001b[0m \u001b[39m#model.do_steps(0)\u001b[39;00m\n",
      "File \u001b[0;32m~/VENV/kmcos/lib/python3.8/site-packages/kmcos-1.1.0-py3.8.egg/kmcos/run/__init__.py:1966\u001b[0m, in \u001b[0;36mKMC_Model._put\u001b[0;34m(self, site, new_species, reduce)\u001b[0m\n\u001b[1;32m   1963\u001b[0m     \u001b[39mraise\u001b[39;00m \u001b[39mUserWarning\u001b[39;00m(\u001b[39m'\u001b[39m\u001b[39mz-coordinate \u001b[39m\u001b[39m%s\u001b[39;00m\u001b[39m seems to fall outside lattice\u001b[39m\u001b[39m'\u001b[39m\n\u001b[1;32m   1964\u001b[0m                       \u001b[39m%\u001b[39m z)\n\u001b[1;32m   1965\u001b[0m \u001b[39mif\u001b[39;00m \u001b[39mnot\u001b[39;00m n \u001b[39min\u001b[39;00m \u001b[39mrange\u001b[39m(\u001b[39m1\u001b[39m, \u001b[39mself\u001b[39m\u001b[39m.\u001b[39mlattice\u001b[39m.\u001b[39mspuck \u001b[39m+\u001b[39m \u001b[39m1\u001b[39m):\n\u001b[0;32m-> 1966\u001b[0m     \u001b[39mraise\u001b[39;00m \u001b[39mUserWarning\u001b[39;00m(\u001b[39m'\u001b[39m\u001b[39mn-coordinate \u001b[39m\u001b[39m%s\u001b[39;00m\u001b[39m seems to fall outside lattice\u001b[39m\u001b[39m'\u001b[39m\n\u001b[1;32m   1967\u001b[0m                       \u001b[39m%\u001b[39m n)\n\u001b[1;32m   1969\u001b[0m old_species \u001b[39m=\u001b[39m \u001b[39mself\u001b[39m\u001b[39m.\u001b[39mlattice\u001b[39m.\u001b[39mget_species(site)\n\u001b[1;32m   1970\u001b[0m \u001b[39mself\u001b[39m\u001b[39m.\u001b[39mlattice\u001b[39m.\u001b[39mreplace_species(site, old_species, new_species)\n",
      "\u001b[0;31mUserWarning\u001b[0m: n-coordinate 2 seems to fall outside lattice"
     ]
    }
   ],
   "source": [
    "from kmcos.run import KMC_Model\n",
    "from kmcos.view import main\n",
    "\n",
    "\n",
    "with KMC_Model(print_rates=False, banner=False) as model:\n",
    "    model.settings.simulation_size = repeat\n",
    "    atoms = model.get_atoms()\n",
    "    converter = {\"fe\": model.proclist.fe, \"empty\": model.proclist.empty, \"pt\": model.proclist.pt}\n",
    "    for coord, type in zip(merged[[\"x_cell\", \"y_cell\", \"z_cell\", \"inner_coord_number\"]].values, merged[\"types_y\"]):\n",
    "        model._put(coord.tolist(), converter[type])\n",
    "    model._adjust_database()\n",
    "    #model.do_steps(0)\n",
    "    aft_atoms = model.get_atoms()\n",
    "  #print(model.proclist.__dir__())"
   ]
  },
  {
   "cell_type": "code",
   "execution_count": null,
   "metadata": {},
   "outputs": [],
   "source": [
    "fept = read(\"./FePt.cif\")"
   ]
  },
  {
   "cell_type": "code",
   "execution_count": 50,
   "metadata": {},
   "outputs": [
    {
     "data": {
      "text/plain": [
       "Cell([38.49, 38.49, 37.0])"
      ]
     },
     "execution_count": 50,
     "metadata": {},
     "output_type": "execute_result"
    }
   ],
   "source": [
    "target_atoms.cell"
   ]
  },
  {
   "cell_type": "code",
   "execution_count": 51,
   "metadata": {},
   "outputs": [],
   "source": [
    "atoms.cell = target_atoms.cell"
   ]
  },
  {
   "cell_type": "code",
   "execution_count": 52,
   "metadata": {},
   "outputs": [],
   "source": [
    "write(\"test.xyz\", aft_atoms)"
   ]
  },
  {
   "cell_type": "code",
   "execution_count": 53,
   "metadata": {},
   "outputs": [],
   "source": [
    "target_repeat = np.array([repeat] * 3) * cell_ratio\n",
    "target_atoms = fept.repeat(target_repeat.astype(int))"
   ]
  },
  {
   "cell_type": "code",
   "execution_count": 57,
   "metadata": {},
   "outputs": [],
   "source": [
    "def inner_coord_number(df, i):\n",
    "    # TODO Tomo need to change to lattice site name\n",
    "    df[\"inner_coord_number\"] = i\n",
    "    return df\n",
    "\n",
    "def make_dataframe(atoms, repeat):\n",
    "    df = pd.DataFrame(np.concatenate([atoms.get_scaled_positions() * repeat,\n",
    "                                      (atoms.get_scaled_positions() * repeat) % 0.9999],\n",
    "                                      axis=1),\n",
    "                        columns=[f\"{i}_{j}\" for j in [\"cell\", \"inner\"] for i in list(\"xyz\")])\n",
    "    \n",
    "    df[[\"x_cell\", \"y_cell\", \"z_cell\"]] = df[[\"x_cell\", \"y_cell\", \"z_cell\"]].applymap(lambda x : int(x))\n",
    "    df[[\"x_inner\", \"y_inner\", \"z_inner\"]] = df[[\"x_inner\", \"y_inner\", \"z_inner\"]].applymap(lambda x : round(x, 3))\n",
    "    df[\"types\"] = atoms.symbols\n",
    "    df[\"types\"] = df[\"types\"].map(lambda x : x.lower())\n",
    "\n",
    "    box = []\n",
    "    k = 1\n",
    "    for i, j in df.groupby(by = [\"x_inner\", \"y_inner\", \"z_inner\"\n",
    "                                 ]):\n",
    "        tmp_df = inner_coord_number(j, k)\n",
    "        box.append(tmp_df)\n",
    "        k += 1\n",
    "    df = pd.concat(box)\n",
    "\n",
    "    return df"
   ]
  },
  {
   "cell_type": "code",
   "execution_count": 58,
   "metadata": {},
   "outputs": [],
   "source": [
    "df_model = make_dataframe(atoms, repeat)\n",
    "df_target = make_dataframe(target_atoms, repeat)\n",
    "merged = pd.merge(df_model, df_target, on=[\"x_cell\", \"y_cell\", \"z_cell\", \"x_inner\", \"y_inner\", \"z_inner\", \"inner_coord_number\"], how=\"left\")\n",
    "merged[\"types_y\"].fillna(\"empty\", inplace=True)"
   ]
  },
  {
   "cell_type": "code",
   "execution_count": null,
   "metadata": {},
   "outputs": [],
   "source": []
  },
  {
   "cell_type": "code",
   "execution_count": 43,
   "metadata": {},
   "outputs": [
    {
     "name": "stdout",
     "output_type": "stream",
     "text": [
      "[0 0 0 1]\n",
      "pt\n"
     ]
    }
   ],
   "source": [
    "for coord, type in zip(merged[[\"x_cell\", \"y_cell\", \"z_cell\", \"inner_coord_number\"]].values,merged[\"types_y\"]):\n",
    "    print(coord)\n",
    "    print(type)\n",
    "    break"
   ]
  },
  {
   "cell_type": "code",
   "execution_count": 44,
   "metadata": {},
   "outputs": [
    {
     "data": {
      "text/plain": [
       "[0, 0, 0, 1]"
      ]
     },
     "execution_count": 44,
     "metadata": {},
     "output_type": "execute_result"
    }
   ],
   "source": [
    "coord.tolist()"
   ]
  },
  {
   "cell_type": "code",
   "execution_count": 61,
   "metadata": {},
   "outputs": [
    {
     "data": {
      "text/html": [
       "<div>\n",
       "<style scoped>\n",
       "    .dataframe tbody tr th:only-of-type {\n",
       "        vertical-align: middle;\n",
       "    }\n",
       "\n",
       "    .dataframe tbody tr th {\n",
       "        vertical-align: top;\n",
       "    }\n",
       "\n",
       "    .dataframe thead th {\n",
       "        text-align: right;\n",
       "    }\n",
       "</style>\n",
       "<table border=\"1\" class=\"dataframe\">\n",
       "  <thead>\n",
       "    <tr style=\"text-align: right;\">\n",
       "      <th></th>\n",
       "      <th>x_cell</th>\n",
       "      <th>y_cell</th>\n",
       "      <th>z_cell</th>\n",
       "      <th>x_inner</th>\n",
       "      <th>y_inner</th>\n",
       "      <th>z_inner</th>\n",
       "      <th>types_x</th>\n",
       "      <th>inner_coord_number</th>\n",
       "      <th>types_y</th>\n",
       "    </tr>\n",
       "  </thead>\n",
       "  <tbody>\n",
       "    <tr>\n",
       "      <th>0</th>\n",
       "      <td>0</td>\n",
       "      <td>0</td>\n",
       "      <td>0</td>\n",
       "      <td>0.000</td>\n",
       "      <td>0.000</td>\n",
       "      <td>0.000</td>\n",
       "      <td>fe</td>\n",
       "      <td>1</td>\n",
       "      <td>pt</td>\n",
       "    </tr>\n",
       "    <tr>\n",
       "      <th>1</th>\n",
       "      <td>0</td>\n",
       "      <td>0</td>\n",
       "      <td>1</td>\n",
       "      <td>0.000</td>\n",
       "      <td>0.000</td>\n",
       "      <td>0.000</td>\n",
       "      <td>fe</td>\n",
       "      <td>1</td>\n",
       "      <td>empty</td>\n",
       "    </tr>\n",
       "    <tr>\n",
       "      <th>2</th>\n",
       "      <td>0</td>\n",
       "      <td>0</td>\n",
       "      <td>2</td>\n",
       "      <td>0.000</td>\n",
       "      <td>0.000</td>\n",
       "      <td>0.000</td>\n",
       "      <td>fe</td>\n",
       "      <td>1</td>\n",
       "      <td>pt</td>\n",
       "    </tr>\n",
       "    <tr>\n",
       "      <th>3</th>\n",
       "      <td>0</td>\n",
       "      <td>0</td>\n",
       "      <td>3</td>\n",
       "      <td>0.000</td>\n",
       "      <td>0.000</td>\n",
       "      <td>0.000</td>\n",
       "      <td>fe</td>\n",
       "      <td>1</td>\n",
       "      <td>empty</td>\n",
       "    </tr>\n",
       "    <tr>\n",
       "      <th>4</th>\n",
       "      <td>0</td>\n",
       "      <td>0</td>\n",
       "      <td>4</td>\n",
       "      <td>0.000</td>\n",
       "      <td>0.000</td>\n",
       "      <td>0.000</td>\n",
       "      <td>fe</td>\n",
       "      <td>1</td>\n",
       "      <td>pt</td>\n",
       "    </tr>\n",
       "    <tr>\n",
       "      <th>...</th>\n",
       "      <td>...</td>\n",
       "      <td>...</td>\n",
       "      <td>...</td>\n",
       "      <td>...</td>\n",
       "      <td>...</td>\n",
       "      <td>...</td>\n",
       "      <td>...</td>\n",
       "      <td>...</td>\n",
       "      <td>...</td>\n",
       "    </tr>\n",
       "    <tr>\n",
       "      <th>8051</th>\n",
       "      <td>19</td>\n",
       "      <td>18</td>\n",
       "      <td>19</td>\n",
       "      <td>0.002</td>\n",
       "      <td>0.002</td>\n",
       "      <td>0.002</td>\n",
       "      <td>fe</td>\n",
       "      <td>27</td>\n",
       "      <td>fe</td>\n",
       "    </tr>\n",
       "    <tr>\n",
       "      <th>8052</th>\n",
       "      <td>19</td>\n",
       "      <td>19</td>\n",
       "      <td>16</td>\n",
       "      <td>0.002</td>\n",
       "      <td>0.002</td>\n",
       "      <td>0.002</td>\n",
       "      <td>fe</td>\n",
       "      <td>27</td>\n",
       "      <td>pt</td>\n",
       "    </tr>\n",
       "    <tr>\n",
       "      <th>8053</th>\n",
       "      <td>19</td>\n",
       "      <td>19</td>\n",
       "      <td>17</td>\n",
       "      <td>0.002</td>\n",
       "      <td>0.002</td>\n",
       "      <td>0.002</td>\n",
       "      <td>fe</td>\n",
       "      <td>27</td>\n",
       "      <td>empty</td>\n",
       "    </tr>\n",
       "    <tr>\n",
       "      <th>8054</th>\n",
       "      <td>19</td>\n",
       "      <td>19</td>\n",
       "      <td>18</td>\n",
       "      <td>0.002</td>\n",
       "      <td>0.002</td>\n",
       "      <td>0.002</td>\n",
       "      <td>fe</td>\n",
       "      <td>27</td>\n",
       "      <td>pt</td>\n",
       "    </tr>\n",
       "    <tr>\n",
       "      <th>8055</th>\n",
       "      <td>19</td>\n",
       "      <td>19</td>\n",
       "      <td>19</td>\n",
       "      <td>0.002</td>\n",
       "      <td>0.002</td>\n",
       "      <td>0.002</td>\n",
       "      <td>fe</td>\n",
       "      <td>27</td>\n",
       "      <td>empty</td>\n",
       "    </tr>\n",
       "  </tbody>\n",
       "</table>\n",
       "<p>8056 rows × 9 columns</p>\n",
       "</div>"
      ],
      "text/plain": [
       "      x_cell  y_cell  z_cell  x_inner  y_inner  z_inner types_x  \\\n",
       "0          0       0       0    0.000    0.000    0.000      fe   \n",
       "1          0       0       1    0.000    0.000    0.000      fe   \n",
       "2          0       0       2    0.000    0.000    0.000      fe   \n",
       "3          0       0       3    0.000    0.000    0.000      fe   \n",
       "4          0       0       4    0.000    0.000    0.000      fe   \n",
       "...      ...     ...     ...      ...      ...      ...     ...   \n",
       "8051      19      18      19    0.002    0.002    0.002      fe   \n",
       "8052      19      19      16    0.002    0.002    0.002      fe   \n",
       "8053      19      19      17    0.002    0.002    0.002      fe   \n",
       "8054      19      19      18    0.002    0.002    0.002      fe   \n",
       "8055      19      19      19    0.002    0.002    0.002      fe   \n",
       "\n",
       "      inner_coord_number types_y  \n",
       "0                      1      pt  \n",
       "1                      1   empty  \n",
       "2                      1      pt  \n",
       "3                      1   empty  \n",
       "4                      1      pt  \n",
       "...                  ...     ...  \n",
       "8051                  27      fe  \n",
       "8052                  27      pt  \n",
       "8053                  27   empty  \n",
       "8054                  27      pt  \n",
       "8055                  27   empty  \n",
       "\n",
       "[8056 rows x 9 columns]"
      ]
     },
     "execution_count": 61,
     "metadata": {},
     "output_type": "execute_result"
    }
   ],
   "source": [
    "merged"
   ]
  },
  {
   "cell_type": "code",
   "execution_count": null,
   "metadata": {},
   "outputs": [],
   "source": []
  }
 ],
 "metadata": {
  "kernelspec": {
   "display_name": "kmcos",
   "language": "python",
   "name": "python3"
  },
  "language_info": {
   "codemirror_mode": {
    "name": "ipython",
    "version": 3
   },
   "file_extension": ".py",
   "mimetype": "text/x-python",
   "name": "python",
   "nbconvert_exporter": "python",
   "pygments_lexer": "ipython3",
   "version": "3.8.10"
  }
 },
 "nbformat": 4,
 "nbformat_minor": 2
}
